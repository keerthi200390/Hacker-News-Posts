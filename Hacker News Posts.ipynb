{
 "cells": [
  {
   "cell_type": "markdown",
   "metadata": {
    "collapsed": true
   },
   "source": [
    "#  Researching Hacker News Posts\n",
    "\n",
    "## Introduction\n",
    "[Hacker News](https://news.ycombinator.com/) is a popular website focuses on Computer science and Entrepreneurship, where technology related posts are commented and voted upon. There are two major types of posts. Ask HN and Show HN. Ask HN is where user posts specific question and Show HN is where user posts a project, product or something interesting.\n",
    "\n",
    "In this project we will try to find:\n",
    "\n",
    "Do Ask HN or Show HN receive more comments on average?\n",
    "\n",
    "Do posts created at a certain time receive more comments on average?\n",
    "\n",
    "### Summary of Results\n",
    "After analyzing the data, we found that *Ask HN* posts receive more comments on average than *Show HN* posts. We also determined if the *Ask HN* post were create between 3.00 - 4.00 PM EST the average number of comments increases over 60%.\n",
    "\n",
    "For more details, please refer to our analysis below.\n",
    "\n",
    "## Data Set\n",
    "The link to the data set can be found [here](https://www.kaggle.com/hacker-news/hacker-news-posts). It has been downloaded to the PC and named as \"*hacker_news.csv*\"\n",
    "\n",
    "## Opening and Exploring Data\n",
    "\n",
    "Let us start by opening the data set and convert it into a list of list."
   ]
  },
  {
   "cell_type": "code",
   "execution_count": 1,
   "metadata": {
    "collapsed": true
   },
   "outputs": [],
   "source": [
    "#Opening and converting data to list of list\n",
    "from csv import reader\n",
    "opened_file = open(\"hacker_news.csv\")\n",
    "read_file = reader(opened_file)\n",
    "hn = list(read_file)"
   ]
  },
  {
   "cell_type": "markdown",
   "metadata": {},
   "source": [
    "After we converted the data set into a list of list, lets print first few rows of it and see how it looks like."
   ]
  },
  {
   "cell_type": "code",
   "execution_count": 2,
   "metadata": {
    "collapsed": false
   },
   "outputs": [
    {
     "name": "stdout",
     "output_type": "stream",
     "text": [
      "['id', 'title', 'url', 'num_points', 'num_comments', 'author', 'created_at']\n",
      "\n",
      "\n",
      "['12224879', 'Interactive Dynamic Video', 'http://www.interactivedynamicvideo.com/', '386', '52', 'ne0phyte', '8/4/2016 11:52']\n",
      "\n",
      "\n",
      "['10975351', 'How to Use Open Source and Shut the Fuck Up at the Same Time', 'http://hueniverse.com/2016/01/26/how-to-use-open-source-and-shut-the-fuck-up-at-the-same-time/', '39', '10', 'josep2', '1/26/2016 19:30']\n",
      "\n",
      "\n",
      "['11964716', \"Florida DJs May Face Felony for April Fools' Water Joke\", 'http://www.thewire.com/entertainment/2013/04/florida-djs-april-fools-water-joke/63798/', '2', '1', 'vezycash', '6/23/2016 22:20']\n",
      "\n",
      "\n"
     ]
    }
   ],
   "source": [
    "#Printing first 4 rows\n",
    "for each_row in hn[:4]:\n",
    "    print(each_row)\n",
    "    print(\"\\n\")"
   ]
  },
  {
   "cell_type": "markdown",
   "metadata": {},
   "source": [
    "As you see above, first row contain all the column names. We can move those into another variable so that it will be easier to analyse the data."
   ]
  },
  {
   "cell_type": "code",
   "execution_count": 3,
   "metadata": {
    "collapsed": false
   },
   "outputs": [
    {
     "name": "stdout",
     "output_type": "stream",
     "text": [
      "['id', 'title', 'url', 'num_points', 'num_comments', 'author', 'created_at']\n"
     ]
    }
   ],
   "source": [
    "#Extracting header row\n",
    "header = hn[0]\n",
    "hn = hn[1:]\n",
    "print(header)\n"
   ]
  },
  {
   "cell_type": "markdown",
   "metadata": {},
   "source": [
    "we have extracted the first row into a variable named *header* and the *hn* list will only contain post."
   ]
  },
  {
   "cell_type": "code",
   "execution_count": 4,
   "metadata": {
    "collapsed": false,
    "scrolled": false
   },
   "outputs": [
    {
     "name": "stdout",
     "output_type": "stream",
     "text": [
      "['12224879', 'Interactive Dynamic Video', 'http://www.interactivedynamicvideo.com/', '386', '52', 'ne0phyte', '8/4/2016 11:52']\n",
      "\n",
      "\n",
      "['10975351', 'How to Use Open Source and Shut the Fuck Up at the Same Time', 'http://hueniverse.com/2016/01/26/how-to-use-open-source-and-shut-the-fuck-up-at-the-same-time/', '39', '10', 'josep2', '1/26/2016 19:30']\n",
      "\n",
      "\n",
      "['11964716', \"Florida DJs May Face Felony for April Fools' Water Joke\", 'http://www.thewire.com/entertainment/2013/04/florida-djs-april-fools-water-joke/63798/', '2', '1', 'vezycash', '6/23/2016 22:20']\n",
      "\n",
      "\n"
     ]
    }
   ],
   "source": [
    "#verifying hn list\n",
    "for each_row in hn[:3]:\n",
    "    print(each_row)\n",
    "    print(\"\\n\")"
   ]
  },
  {
   "cell_type": "markdown",
   "metadata": {
    "collapsed": false
   },
   "source": [
    "## Extracting Ask HN and Show HN Posts\n",
    "In our project we are dealing only with *Ask HN* and *Show HN* posts. So we will segrete these into 2 different lists from other posts. \n",
    "\n",
    "For this we will use the string method *startswith* which extracts all the posts whose name starts with *Ask HN* and *Show HN*\n",
    "\n",
    "We will also be using another string method *lower* to account for case variations."
   ]
  },
  {
   "cell_type": "code",
   "execution_count": 5,
   "metadata": {
    "collapsed": true
   },
   "outputs": [],
   "source": [
    "#Extract Ask HN and Show HN posts\n",
    "ask_posts = []\n",
    "show_posts = []\n",
    "other_posts = []\n",
    "\n",
    "for each_post in hn:\n",
    "    name = each_post[1]\n",
    "    if name.lower().startswith(\"ask hn\"):\n",
    "        ask_posts.append(each_post)\n",
    "    elif name.lower().startswith(\"show hn\"):\n",
    "        show_posts.append(each_post)\n",
    "    else:\n",
    "        other_posts.append(each_post)\n",
    "        "
   ]
  },
  {
   "cell_type": "markdown",
   "metadata": {},
   "source": [
    "Lets find out how many Ask, Show and other posts we have."
   ]
  },
  {
   "cell_type": "code",
   "execution_count": 6,
   "metadata": {
    "collapsed": false,
    "scrolled": true
   },
   "outputs": [
    {
     "name": "stdout",
     "output_type": "stream",
     "text": [
      "The number of Ask HN posts is:  1744\n",
      "\n",
      "\n",
      "The number of Show HN posts is:  1162\n",
      "\n",
      "\n",
      "The number of other posts is:  17194\n",
      "\n",
      "\n"
     ]
    }
   ],
   "source": [
    "#Finding number of posts in each list\n",
    "print(\"The number of Ask HN posts is: \", len(ask_posts))\n",
    "print(\"\\n\")\n",
    "print(\"The number of Show HN posts is: \", len(show_posts))\n",
    "print(\"\\n\")\n",
    "print(\"The number of other posts is: \", len(other_posts))\n",
    "print(\"\\n\")"
   ]
  },
  {
   "cell_type": "markdown",
   "metadata": {},
   "source": [
    "There as total of 1744 *Ask HN* posts and 1162 *Show HN* posts. Lets print few rows of both."
   ]
  },
  {
   "cell_type": "code",
   "execution_count": 7,
   "metadata": {
    "collapsed": false
   },
   "outputs": [
    {
     "name": "stdout",
     "output_type": "stream",
     "text": [
      "['id', 'title', 'url', 'num_points', 'num_comments', 'author', 'created_at']\n",
      "\n",
      "\n",
      "['12296411', 'Ask HN: How to improve my personal website?', '', '2', '6', 'ahmedbaracat', '8/16/2016 9:55']\n",
      "\n",
      "\n",
      "['10610020', 'Ask HN: Am I the only one outraged by Twitter shutting down share counts?', '', '28', '29', 'tkfx', '11/22/2015 13:43']\n",
      "\n",
      "\n",
      "['11610310', 'Ask HN: Aby recent changes to CSS that broke mobile?', '', '1', '1', 'polskibus', '5/2/2016 10:14']\n",
      "\n",
      "\n",
      "['id', 'title', 'url', 'num_points', 'num_comments', 'author', 'created_at']\n",
      "\n",
      "\n",
      "['10627194', 'Show HN: Wio Link  ESP8266 Based Web of Things Hardware Development Platform', 'https://iot.seeed.cc', '26', '22', 'kfihihc', '11/25/2015 14:03']\n",
      "\n",
      "\n",
      "['10646440', 'Show HN: Something pointless I made', 'http://dn.ht/picklecat/', '747', '102', 'dhotson', '11/29/2015 22:46']\n",
      "\n",
      "\n",
      "['11590768', 'Show HN: Shanhu.io, a programming playground powered by e8vm', 'https://shanhu.io', '1', '1', 'h8liu', '4/28/2016 18:05']\n",
      "\n",
      "\n"
     ]
    }
   ],
   "source": [
    "#Printing few Ask HN posts\n",
    "print(header)\n",
    "print(\"\\n\")\n",
    "for each in ask_posts[:3]:\n",
    "    print(each)\n",
    "    print(\"\\n\")\n",
    "\n",
    "#Printing few Ask HN posts\n",
    "print(header)\n",
    "print(\"\\n\")\n",
    "for each in show_posts[:3]:\n",
    "    print(each)\n",
    "    print(\"\\n\")"
   ]
  },
  {
   "cell_type": "markdown",
   "metadata": {},
   "source": [
    "## Average Comments for Ask HN and Show HN Posts\n",
    "\n",
    "Now lets us find which type of post gather more number of comments. For that, we first need to find the average comments for each type of posts."
   ]
  },
  {
   "cell_type": "code",
   "execution_count": 8,
   "metadata": {
    "collapsed": false
   },
   "outputs": [
    {
     "name": "stdout",
     "output_type": "stream",
     "text": [
      "Average comment for Ask Posts is:  14.038417431192661\n",
      "\n",
      "\n",
      "Average comment for Show Posts is:  10.31669535283993\n"
     ]
    }
   ],
   "source": [
    "#Average number of comments for Ask HN posts\n",
    "sum_ask = 0\n",
    "for each_post in ask_posts:\n",
    "    comment = int(each_post[4])#converting comments into int type\n",
    "    sum_ask += comment\n",
    "    \n",
    "ask_average = sum_ask / len(ask_posts)\n",
    "    \n",
    "#Average number of comments for Show HN posts\n",
    "sum_show = 0\n",
    "for each_post in show_posts:\n",
    "    comment = int(each_post[4])#converting comments into int type\n",
    "    sum_show += comment\n",
    "    \n",
    "show_average = sum_show / len(show_posts) \n",
    "\n",
    "print(\"Average comment for Ask Posts is: \", ask_average)\n",
    "print(\"\\n\")\n",
    "print(\"Average comment for Show Posts is: \", show_average)"
   ]
  },
  {
   "cell_type": "markdown",
   "metadata": {},
   "source": [
    "So we have found that *Ask HN* post on average gets ~ 14 comments per post which is 40% higher than the ~10 comments received by *Show HN* posts.\n",
    "\n",
    "So we will proceed only with *Ask HN* posts further in our analysis.\n"
   ]
  },
  {
   "cell_type": "markdown",
   "metadata": {},
   "source": [
    "## Discover Amount of Ask HN Posts and Comments by Hour\n",
    "\n",
    "Our second goal in the project was to find whether if posts created at certain time receive more comments. So we will start by finding the number of posts and comments per hour and find the average comment per each hour."
   ]
  },
  {
   "cell_type": "code",
   "execution_count": 9,
   "metadata": {
    "collapsed": false
   },
   "outputs": [
    {
     "name": "stdout",
     "output_type": "stream",
     "text": [
      "The average comments per post during hour 15:00 is 38.59\n",
      "The average comments per post during hour 2:00 is 23.81\n",
      "The average comments per post during hour 20:00 is 21.52\n",
      "The average comments per post during hour 16:00 is 16.80\n",
      "The average comments per post during hour 21:00 is 16.01\n",
      "The average comments per post during hour 13:00 is 14.74\n",
      "The average comments per post during hour 10:00 is 13.44\n",
      "The average comments per post during hour 14:00 is 13.23\n",
      "The average comments per post during hour 18:00 is 13.20\n",
      "The average comments per post during hour 17:00 is 11.46\n",
      "The average comments per post during hour 1:00 is 11.38\n",
      "The average comments per post during hour 11:00 is 11.05\n",
      "The average comments per post during hour 19:00 is 10.80\n",
      "The average comments per post during hour 8:00 is 10.25\n",
      "The average comments per post during hour 5:00 is 10.09\n",
      "The average comments per post during hour 12:00 is 9.41\n",
      "The average comments per post during hour 6:00 is 9.02\n",
      "The average comments per post during hour 0:00 is 8.13\n",
      "The average comments per post during hour 23:00 is 7.99\n",
      "The average comments per post during hour 7:00 is 7.85\n",
      "The average comments per post during hour 3:00 is 7.80\n",
      "The average comments per post during hour 4:00 is 7.17\n",
      "The average comments per post during hour 22:00 is 6.75\n",
      "The average comments per post during hour 9:00 is 5.58\n"
     ]
    }
   ],
   "source": [
    "#Extracting number of posts and comments for every hour\n",
    "import datetime as dt\n",
    "comment_hour = {} \n",
    "posts_hour = {}\n",
    "for each_post in ask_posts:\n",
    "    comment = int(each_post[4])\n",
    "    time = dt.datetime.strptime(each_post[6], \"%m/%d/%Y %H:%M\") \n",
    "    if time.hour in comment_hour:\n",
    "        comment_hour[time.hour] += comment\n",
    "        posts_hour[time.hour] += 1\n",
    "    else:\n",
    "        comment_hour[time.hour] = comment\n",
    "        posts_hour[time.hour] = 1\n",
    "        \n",
    "#Finding average number of comments per hour\n",
    "average_comment_hour = {}\n",
    "for each in comment_hour:\n",
    "    average_comment_hour[each] = comment_hour[each] / posts_hour[each]\n",
    "    \n",
    "#Sorting the average_comment_hour in descending order\n",
    "average_list = []\n",
    "for hour,comments in average_comment_hour.items():\n",
    "    average_list.append([comments,hour])\n",
    "    \n",
    "sorted_list = sorted(average_list, reverse = True)    \n",
    "\n",
    "#Formatting for better readability\n",
    "for comment, hour in sorted_list:\n",
    "    print(\"The average comments per post during hour {}:00 is {:.2f}\".format(hour, comment))"
   ]
  },
  {
   "cell_type": "markdown",
   "metadata": {},
   "source": [
    "So we can see is that *ASK HN posts* posted during 15:00 - 15.59 receives on average, 38.59 comments, which is 60% more than what hour 2 receives, which has ~24 comments per post on average.\n",
    "\n",
    "The timezone in the data set is EST. So 15:00 corresponds to 3 PM EST."
   ]
  },
  {
   "cell_type": "markdown",
   "metadata": {},
   "source": [
    "## Conclusion:\n",
    "In this project, we analysed Hacker News posts and determined *ASK HN* posts receive more comments on average, compared with *Show HN* posts. Also we found that *Ask HN* posts receive more comments on average, if the posts were during the time 3.00 - 4.00 EST. \n",
    "\n",
    "So we recommend creating a *Ask HN* post between 3.00 - 4.00 PM EST, if you are looking to maximize the number of comments your post receives.\n"
   ]
  }
 ],
 "metadata": {
  "kernelspec": {
   "display_name": "Python 3",
   "language": "python",
   "name": "python3"
  },
  "language_info": {
   "codemirror_mode": {
    "name": "ipython",
    "version": 3
   },
   "file_extension": ".py",
   "mimetype": "text/x-python",
   "name": "python",
   "nbconvert_exporter": "python",
   "pygments_lexer": "ipython3",
   "version": "3.4.3"
  }
 },
 "nbformat": 4,
 "nbformat_minor": 2
}
